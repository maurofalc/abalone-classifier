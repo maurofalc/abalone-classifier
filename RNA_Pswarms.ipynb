{
 "cells": [
  {
   "cell_type": "code",
   "execution_count": 10,
   "id": "3b384422",
   "metadata": {},
   "outputs": [],
   "source": [
    "import pandas as pd\n",
    "import numpy as np\n",
    "from sklearn.preprocessing import LabelEncoder\n",
    "from sklearn.model_selection import train_test_split\n",
    "from sklearn.preprocessing import MinMaxScaler\n",
    "import pyswarms as ps\n",
    "from sklearn.metrics import classification_report\n",
    "import seaborn as sns"
   ]
  },
  {
   "cell_type": "markdown",
   "id": "b9d1160b",
   "metadata": {},
   "source": [
    "# Divisão da base de dados e pré-processamento"
   ]
  },
  {
   "cell_type": "code",
   "execution_count": 2,
   "id": "893211ad",
   "metadata": {},
   "outputs": [
    {
     "name": "stdout",
     "output_type": "stream",
     "text": [
      "<class 'pandas.core.frame.DataFrame'>\n",
      "RangeIndex: 4177 entries, 0 to 4176\n",
      "Data columns (total 9 columns):\n",
      " #   Column          Non-Null Count  Dtype  \n",
      "---  ------          --------------  -----  \n",
      " 0   Sex             4177 non-null   object \n",
      " 1   Length          4177 non-null   float64\n",
      " 2   Diameter        4177 non-null   float64\n",
      " 3   Height          4177 non-null   float64\n",
      " 4   Whole weight    4177 non-null   float64\n",
      " 5   Shucked weight  4177 non-null   float64\n",
      " 6   Viscera weight  4177 non-null   float64\n",
      " 7   Shell weight    4177 non-null   float64\n",
      " 8   Rings           4177 non-null   int64  \n",
      "dtypes: float64(7), int64(1), object(1)\n",
      "memory usage: 293.8+ KB\n"
     ]
    }
   ],
   "source": [
    "base = pd.read_csv(\"abalone.csv\")\n",
    "base.info()\n",
    "\n",
    "attributes = base.iloc[:, 1:9].values\n",
    "sex = base.iloc[:, 0].values\n",
    "\n",
    "scaler = MinMaxScaler(feature_range=(-1, 1))\n",
    "attributes = scaler.fit_transform(attributes)\n",
    "\n",
    "labelencoder = LabelEncoder()\n",
    "sex = labelencoder.fit_transform(sex)\n",
    "\n",
    "X_train, X_test, y_train, y_test =  train_test_split(attributes, sex, shuffle=True, random_state=1, test_size=.174)"
   ]
  },
  {
   "cell_type": "markdown",
   "id": "1affebd0",
   "metadata": {},
   "source": [
    "# Construção da topologia da RNA"
   ]
  },
  {
   "cell_type": "code",
   "execution_count": 3,
   "id": "6769c734",
   "metadata": {},
   "outputs": [],
   "source": [
    "n_inputs = 8\n",
    "n_hidden = 20\n",
    "n_classes = 3\n",
    "\n",
    "num_samples = 3450\n",
    "\n",
    "# Definição de função das camadas da RNA\n",
    "def logits_function(p):\n",
    "    W1 = p[0:160].reshape((n_inputs,n_hidden))\n",
    "    b1 = p[160:180].reshape((n_hidden,))\n",
    "    W2 = p[180:240].reshape((n_hidden,n_classes))\n",
    "    b2 = p[240:243].reshape((n_classes,))\n",
    "\n",
    "    z1 = X_train.dot(W1) + b1  \n",
    "    a1 = np.tanh(z1)    \n",
    "    logits = a1.dot(W2) + b2 \n",
    "    return logits\n",
    "\n",
    "# Definição da função da etapa foward do algoritmo BP\n",
    "def forward_prop(params):\n",
    "    logits = logits_function(params)\n",
    "\n",
    "    exp_scores = np.exp(logits)\n",
    "    probs = exp_scores / np.sum(exp_scores, axis=1, keepdims=True)\n",
    "\n",
    "    corect_logprobs = -np.log(probs[range(num_samples), y_train])\n",
    "    loss = np.sum(corect_logprobs) / num_samples\n",
    "\n",
    "    return loss\n",
    "\n",
    "# Definição da função para auxiliar na execução do PSO\n",
    "def f(x):\n",
    "    \n",
    "    n_particles = x.shape[0]\n",
    "    j = [forward_prop(x[i]) for i in range(n_particles)]\n",
    "    return np.array(j)"
   ]
  },
  {
   "cell_type": "markdown",
   "id": "eb1222d5",
   "metadata": {},
   "source": [
    "# Inicialização PSO"
   ]
  },
  {
   "cell_type": "code",
   "execution_count": 4,
   "id": "dc362d64",
   "metadata": {},
   "outputs": [
    {
     "name": "stderr",
     "output_type": "stream",
     "text": [
      "2021-11-08 09:30:00,081 - pyswarms.single.global_best - INFO - Optimize for 1000 iters with {'c1': 0.15, 'c2': 0.5, 'w': 0.9}\n",
      "pyswarms.single.global_best: 100%|██████████|1000/1000, best_cost=0.84\n",
      "2021-11-08 09:35:28,273 - pyswarms.single.global_best - INFO - Optimization finished | best cost: 0.8398324052045087, best pos: [ 9.42463055e-01 -2.38104250e+00  1.91781544e+00  1.92383582e+00\n",
      "  7.39864658e-01  1.38887456e+00  1.12151398e+00  1.17919803e+00\n",
      "  6.35153198e-01  1.60281901e+00  2.03787093e+00  1.54690117e+00\n",
      "  1.28679863e+00  1.29436230e+00  1.15963694e+00  1.72921182e+00\n",
      "  1.01623345e+00  2.07255919e-01 -2.42618510e-03  1.78599474e+00\n",
      "  1.72961608e+00  8.92532441e-01  2.00212395e+00  3.16891108e-01\n",
      "  1.69854952e+00  1.39735005e+00  1.69184912e+00  1.74519689e+00\n",
      "  1.11768771e+00  1.04876028e+00  2.18829830e+00  1.10647947e+00\n",
      " -3.70650677e-01  1.49725563e+00  4.37287973e+00  2.63581336e+00\n",
      "  1.08355649e-01  1.27032598e+00 -2.83991823e-01  6.71835177e-01\n",
      "  1.43667363e+00  9.38561003e-01  1.39855001e+00  1.74807556e+00\n",
      "  8.55810358e-01  2.69940987e+00  7.98955632e-02  8.07317486e-01\n",
      "  1.27188466e+00  7.89170203e-01  1.70752678e+00  4.28552518e+00\n",
      "  1.52907083e-01  1.03714672e+00  2.77312833e+00  8.32702733e-01\n",
      "  1.71938442e+00  6.28665197e-01  2.41773812e+00  1.41932956e-01\n",
      "  4.68851625e-01  1.35723083e+00  1.32087289e+00  3.27454606e-01\n",
      "  2.16973357e+00  2.42539987e+00  2.17634592e+00 -8.74197480e-01\n",
      "  2.06478724e+00 -5.78957132e-02  6.92794950e-01  5.82159027e-01\n",
      "  1.59545295e+00  1.68876551e+00 -4.67768771e+00  2.12670961e+00\n",
      "  1.16601817e+00  1.11411142e+00  1.17326428e+00  1.44379865e+00\n",
      "  2.50463268e+00  8.00779574e-02  1.39667537e+00  1.11345765e+00\n",
      "  2.44872513e+00  1.13681697e+00  1.36234483e+00  1.73199270e+00\n",
      "  6.60715711e-01  7.64514863e-01  1.70396566e+00  5.68598482e-01\n",
      "  1.03840598e+00  2.50713508e+00  2.97149230e+00  9.12913103e-01\n",
      "  5.92071049e-01  2.29025424e+00  1.17774990e+00  8.99083123e-01\n",
      "  2.18187007e+00  1.38501774e+00  1.45437366e-01  1.80619388e+00\n",
      "  3.54497662e-01  1.55924555e+00  1.55750077e+00  1.94529273e+00\n",
      "  1.04377586e+00  3.65852218e+00  2.24990177e+00  1.42758183e+00\n",
      "  9.15708608e-01  2.70991786e+00 -2.28990632e+00  2.61836708e+00\n",
      "  2.76410967e+00  2.05034489e+00  9.12601560e-01  1.55333609e+00\n",
      "  1.88464728e+00  4.30749086e-01  1.34628564e+00  1.97904940e+00\n",
      "  5.17757047e-02  1.03195968e+00  1.22660250e+00  1.45549363e+00\n",
      "  1.36496510e+00  6.64063256e-01  6.16900611e-01  9.06776350e-01\n",
      "  1.42830049e+00  2.05531314e+00  1.04474830e+00  2.33047251e+00\n",
      "  1.42972290e+00  1.09944297e+00  1.36134011e+00  5.57431591e-01\n",
      "  2.30392400e+00  1.75382141e+00  8.67303389e-01  2.62608472e-01\n",
      "  1.22288014e+00  1.88132856e+00  2.26466238e-01  7.12949861e-01\n",
      "  1.27044762e+00  3.44819641e-01  9.14707416e-01  9.86148413e-01\n",
      "  1.94506368e+00  9.85881353e-01  4.18777776e+00  1.73407427e-01\n",
      "  1.74693915e+00  7.50077932e-01  6.41176496e-01  9.73339257e-01\n",
      "  2.04287905e+00  4.19363021e+00  1.60275522e+00  2.10709510e+00\n",
      "  1.72969041e+00  4.28107076e-01  1.59662401e+00  1.32964369e+00\n",
      "  1.50654557e+00  1.25920178e+00  8.09831360e-01  1.03513133e+00\n",
      "  9.63784531e-01  1.84884948e+00  1.34508803e+00  2.28727189e+00\n",
      "  2.63669819e+00  5.26733608e-01  8.92707130e-01  3.24155509e-01\n",
      "  2.08804347e+00  1.10708958e+00  1.50061604e+00  2.05799498e+00\n",
      " -3.72559918e+00  1.19042113e+00  1.43243040e+00  3.22036496e-01\n",
      "  9.99080636e-01  1.90979616e+00  1.60254007e+00  1.44642273e+00\n",
      "  7.76203677e-01  7.79229481e-01  1.55074601e+00  1.87894528e+00\n",
      "  2.15937209e+00  1.42575094e+00  1.32828886e+00  7.46696509e-01\n",
      "  1.36973522e+00  5.08887336e-01  2.95471595e+00  2.72570159e+00\n",
      "  1.29210767e+00  1.23989298e+00  8.71949937e-01  5.00120606e-01\n",
      "  2.03157486e-01  8.30539384e-01  1.22284224e+00  6.32408903e-01\n",
      "  3.33932583e-01  1.40045213e+00  1.34436024e+00  1.20943501e+00\n",
      " -6.61056189e-01  9.80622764e-01  1.33986149e+00  1.99576015e+00\n",
      "  1.86722229e+00  2.39284512e+00 -9.70649308e-02  1.10715351e+00\n",
      " -2.87062743e-01  1.90688611e+00  1.41899324e+00  9.02443445e-01\n",
      "  1.83496856e+00  2.17012018e+00  3.96518763e-01  1.98887709e+00\n",
      "  9.36650383e-01  1.90947381e+00  1.46808724e+00 -4.79943485e-01\n",
      "  2.02782774e+00  1.04865456e+00  1.33819231e+00  1.18374536e+00\n",
      " -1.20511266e-01  4.96655652e-01  9.21094748e-01]\n"
     ]
    }
   ],
   "source": [
    "options = {'c1': 0.15, 'c2': 0.5, 'w':0.9}\n",
    "\n",
    "dimensions = (n_inputs * n_hidden) + (n_hidden * n_classes) + n_hidden + n_classes\n",
    "optimizer = ps.single.GlobalBestPSO(n_particles=100, dimensions=dimensions, options=options)\n",
    "\n",
    "cost, pos = optimizer.optimize(f, iters=1000)\n"
   ]
  },
  {
   "cell_type": "markdown",
   "id": "593bc205",
   "metadata": {},
   "source": [
    "# Previsão"
   ]
  },
  {
   "cell_type": "code",
   "execution_count": 6,
   "id": "8c50c2e8",
   "metadata": {},
   "outputs": [
    {
     "name": "stdout",
     "output_type": "stream",
     "text": [
      "Acurácia: 0.5695652173913044\n"
     ]
    }
   ],
   "source": [
    "def predict(pos):\n",
    "    logits = logits_function(pos)\n",
    "    y_pred = np.argmax(logits, axis=1)\n",
    "    return y_pred\n",
    "\n",
    "forecasts = predict(pos)\n",
    "print(f\"Acurácia: {(predict(pos) == y_train).mean()}\")"
   ]
  },
  {
   "cell_type": "code",
   "execution_count": 13,
   "id": "bd92ecde",
   "metadata": {},
   "outputs": [
    {
     "data": {
      "text/plain": [
       "<AxesSubplot:>"
      ]
     },
     "execution_count": 13,
     "metadata": {},
     "output_type": "execute_result"
    },
    {
     "data": {
      "image/png": "[encoded data removed]",
      "text/plain": [
       "<Figure size 432x288 with 2 Axes>"
      ]
     },
     "metadata": {
      "needs_background": "light"
     },
     "output_type": "display_data"
    }
   ],
   "source": [
    "clf_report = classification_report(y_train, forecasts, output_dict=True)\n",
    "sns.heatmap(pd.DataFrame(clf_report).iloc[:-1,:-3].T, annot=True,yticklabels=[\"F\",\"I\",\"M\"])"
   ]
  }
 ],
 "metadata": {
  "kernelspec": {
   "display_name": "Python 3 (ipykernel)",
   "language": "python",
   "name": "python3"
  },
  "language_info": {
   "codemirror_mode": {
    "name": "ipython",
    "version": 3
   },
   "file_extension": ".py",
   "mimetype": "text/x-python",
   "name": "python",
   "nbconvert_exporter": "python",
   "pygments_lexer": "ipython3",
   "version": "3.8.11"
  }
 },
 "nbformat": 4,
 "nbformat_minor": 5
}
