{
 "cells": [
  {
   "cell_type": "code",
   "execution_count": 25,
   "id": "3b384422",
   "metadata": {},
   "outputs": [],
   "source": [
    "import pandas as pd\n",
    "import numpy as np\n",
    "from sklearn.preprocessing import LabelEncoder\n",
    "from sklearn.model_selection import train_test_split\n",
    "from sklearn.preprocessing import MinMaxScaler\n",
    "import pyswarms as ps\n",
    "from sklearn.metrics import classification_report\n",
    "import seaborn as sns\n",
    "import itertools\n",
    "import matplotlib.pyplot as plt\n",
    "from sklearn.metrics import confusion_matrix"
   ]
  },
  {
   "cell_type": "markdown",
   "id": "b9d1160b",
   "metadata": {},
   "source": [
    "# Divisão da base de dados e pré-processamento"
   ]
  },
  {
   "cell_type": "code",
   "execution_count": 15,
   "id": "893211ad",
   "metadata": {},
   "outputs": [
    {
     "name": "stdout",
     "output_type": "stream",
     "text": [
      "<class 'pandas.core.frame.DataFrame'>\n",
      "RangeIndex: 4177 entries, 0 to 4176\n",
      "Data columns (total 9 columns):\n",
      " #   Column          Non-Null Count  Dtype  \n",
      "---  ------          --------------  -----  \n",
      " 0   Sex             4177 non-null   object \n",
      " 1   Length          4177 non-null   float64\n",
      " 2   Diameter        4177 non-null   float64\n",
      " 3   Height          4177 non-null   float64\n",
      " 4   Whole weight    4177 non-null   float64\n",
      " 5   Shucked weight  4177 non-null   float64\n",
      " 6   Viscera weight  4177 non-null   float64\n",
      " 7   Shell weight    4177 non-null   float64\n",
      " 8   Rings           4177 non-null   int64  \n",
      "dtypes: float64(7), int64(1), object(1)\n",
      "memory usage: 293.8+ KB\n"
     ]
    }
   ],
   "source": [
    "base = pd.read_csv(\"abalone.csv\")\n",
    "base.info()\n",
    "\n",
    "attributes = base.iloc[:, 1:9].values\n",
    "sex = base.iloc[:, 0].values\n",
    "\n",
    "scaler = MinMaxScaler(feature_range=(-1, 1))\n",
    "attributes = scaler.fit_transform(attributes)\n",
    "\n",
    "labelencoder = LabelEncoder()\n",
    "sex = labelencoder.fit_transform(sex)\n",
    "\n",
    "X_train, X_test, y_train, y_test =  train_test_split(attributes, sex, shuffle=True, random_state=1, test_size=.174)"
   ]
  },
  {
   "cell_type": "markdown",
   "id": "1affebd0",
   "metadata": {},
   "source": [
    "# Construção da topologia da RNA"
   ]
  },
  {
   "cell_type": "code",
   "execution_count": 16,
   "id": "6769c734",
   "metadata": {},
   "outputs": [],
   "source": [
    "n_inputs = 8\n",
    "n_hidden = 20\n",
    "n_classes = 3\n",
    "\n",
    "num_samples = 3450\n",
    "\n",
    "# Definição de função das camadas da RNA\n",
    "def logits_function(p):\n",
    "    W1 = p[0:160].reshape((n_inputs,n_hidden))\n",
    "    b1 = p[160:180].reshape((n_hidden,))\n",
    "    W2 = p[180:240].reshape((n_hidden,n_classes))\n",
    "    b2 = p[240:243].reshape((n_classes,))\n",
    "\n",
    "    z1 = X_train.dot(W1) + b1  \n",
    "    a1 = np.tanh(z1)    \n",
    "    logits = a1.dot(W2) + b2 \n",
    "    return logits\n",
    "\n",
    "# Definição da função da etapa foward do algoritmo BP\n",
    "def forward_prop(params):\n",
    "    logits = logits_function(params)\n",
    "\n",
    "    exp_scores = np.exp(logits)\n",
    "    probs = exp_scores / np.sum(exp_scores, axis=1, keepdims=True)\n",
    "\n",
    "    corect_logprobs = -np.log(probs[range(num_samples), y_train])\n",
    "    loss = np.sum(corect_logprobs) / num_samples\n",
    "\n",
    "    return loss\n",
    "\n",
    "# Definição da função para auxiliar na execução do PSO\n",
    "def f(x):\n",
    "    \n",
    "    n_particles = x.shape[0]\n",
    "    j = [forward_prop(x[i]) for i in range(n_particles)]\n",
    "    return np.array(j)"
   ]
  },
  {
   "cell_type": "markdown",
   "id": "eb1222d5",
   "metadata": {},
   "source": [
    "# Inicialização PSO"
   ]
  },
  {
   "cell_type": "code",
   "execution_count": 17,
   "id": "dc362d64",
   "metadata": {},
   "outputs": [
    {
     "name": "stderr",
     "output_type": "stream",
     "text": [
      "2021-11-08 11:29:42,992 - pyswarms.single.global_best - INFO - Optimize for 1000 iters with {'c1': 0.15, 'c2': 0.5, 'w': 0.9}\n",
      "pyswarms.single.global_best: 100%|██████████|1000/1000, best_cost=0.833\n",
      "2021-11-08 11:38:12,815 - pyswarms.single.global_best - INFO - Optimization finished | best cost: 0.832627315426873, best pos: [-0.99233303  0.75710625  0.57278047  1.86721636  0.96441879  0.62865071\n",
      "  2.57922012  0.61577839  1.47392932 -0.44095918  1.07005489  0.22801764\n",
      "  0.89376728  0.56740662  0.94211279  1.60403299 -0.11808954 -3.24923057\n",
      "  0.78716547  1.11771847 -0.14066611  0.41731962 -0.80015545  1.41877466\n",
      "  1.05906988  2.92556752  1.01979678 -0.11041325  2.15050282  0.15212688\n",
      "  0.73983443  0.65186731 -0.2619188   1.78319979 -0.59036743  0.35707966\n",
      "  0.76737675  1.27588606  1.27536245  0.14351281  0.87646757  1.54107348\n",
      "  1.41705917  0.22564989  0.92583366  1.26438923 -0.25500249 -0.26636282\n",
      " -0.30717495  0.19536394  0.38584705 -0.27433095 -0.28155692  0.23575625\n",
      " -0.0986453   0.44433129  1.31662613  0.34544214 -1.38079255  1.11653966\n",
      "  1.25497494 -0.14873671 -0.13120084  0.7806946   1.17844875  1.31593666\n",
      "  0.70321904  0.90802897  0.29190768  0.94110473  0.91982807  1.56280209\n",
      "  0.4111276   1.91107434  1.4335535  -0.91835066  1.97371352 -0.0166387\n",
      "  0.57217835 -2.72186006  0.06175851  0.59702799  0.18442236  0.44209036\n",
      "  1.13318776 -0.82530428  0.67968222  1.43269711  1.09902891 -0.09231582\n",
      "  2.60603551 -0.79721143  1.02457172  0.64994305  0.71758591  1.67311486\n",
      "  0.030303   -1.4270181   1.26880306 -0.11345663 -0.03263306  0.77659387\n",
      "  0.47666151  0.90839643  1.09801875  0.41186627 -2.06306002  0.46786557\n",
      " -1.29851933  1.47271531  0.91254128  0.37983795  1.03296473 -0.43742201\n",
      "  0.3428969   0.43186761  0.40663021  0.90995735  0.31151874  0.74233032\n",
      "  0.27298747 -1.1856542   0.45073308 -0.62021423  0.52147183  1.44167035\n",
      "  0.97133941 -0.02977349  0.37031502  1.10396567  0.99844256 -0.26507542\n",
      "  1.21510297  0.71752677  0.50991782  0.6623847   1.36267324  0.93184351\n",
      "  0.30809683  0.87224934 -0.04561107  0.8474414   0.07096707  1.63077509\n",
      " -1.03055522 -0.47322208  1.59006663 -2.08034326 -0.20052479  0.39817806\n",
      "  0.81485491  1.55549562  0.41218975  0.83717228  1.18441745  0.63314594\n",
      "  0.17604965 -0.25126554  0.13790572 -0.46493784 -0.01989164  0.38424468\n",
      "  0.83282216  0.31382188 -0.67088191 -1.60803897  0.13371193 -0.74351941\n",
      "  0.52641671 -3.36372614 -0.63078405  1.35904219 -0.12393003  1.00549166\n",
      "  3.15805812 -0.51850859  1.11363032  0.27154718  0.39683465 -0.38815204\n",
      " -0.62549447 -0.32437968  0.75819792  1.40743467  0.95091416  1.11203764\n",
      "  1.22251247 -0.3917063   1.2601695   0.27904575  0.43198837  0.59154185\n",
      "  0.7807728   2.31999088  0.6312281   1.00507533 -1.14672135  0.04960056\n",
      " -1.41025086  0.46363465 -0.4252793   1.59481178 -1.8493251   1.73182277\n",
      " -0.09303236  0.97989674 -0.300857    0.47152121  0.63217026  0.09699618\n",
      "  0.74616351  0.42568556  0.73658002  3.64208045 -0.98134088  1.76476342\n",
      "  0.41401516  1.39830355  0.40745006  1.92231744  0.86131695  1.14198771\n",
      "  1.09506144 -3.14498202  0.90009031 -0.78202202 -0.44862998  0.33788222\n",
      "  0.68868001  0.88626475  0.56104677  0.69602671 -3.12469189  1.21419632\n",
      " -0.40953364 -0.40061591  0.11543945  0.52081917  1.23503835 -0.55894255\n",
      "  0.17235838 -0.33797131  1.79903327]\n"
     ]
    }
   ],
   "source": [
    "options = {'c1': 0.15, 'c2': 0.5, 'w':0.9}\n",
    "\n",
    "dimensions = (n_inputs * n_hidden) + (n_hidden * n_classes) + n_hidden + n_classes\n",
    "optimizer = ps.single.GlobalBestPSO(n_particles=100, dimensions=dimensions, options=options)\n",
    "\n",
    "cost, pos = optimizer.optimize(f, iters=1000)\n"
   ]
  },
  {
   "cell_type": "markdown",
   "id": "593bc205",
   "metadata": {},
   "source": [
    "# Previsão"
   ]
  },
  {
   "cell_type": "code",
   "execution_count": 26,
   "id": "8c50c2e8",
   "metadata": {},
   "outputs": [
    {
     "name": "stdout",
     "output_type": "stream",
     "text": [
      "Acurácia: 0.5733333333333334\n"
     ]
    }
   ],
   "source": [
    "def predict(pos):\n",
    "    logits = logits_function(pos)\n",
    "    y_pred = np.argmax(logits, axis=1)\n",
    "    return y_pred\n",
    "\n",
    "forecasts = predict(pos)\n",
    "matrix = confusion_matrix(forecasts, y_train)\n",
    "print(f\"Acurácia: {(predict(pos) == y_train).mean()}\")"
   ]
  },
  {
   "cell_type": "code",
   "execution_count": 27,
   "id": "9c81b496",
   "metadata": {},
   "outputs": [
    {
     "name": "stdout",
     "output_type": "stream",
     "text": [
      "Confusion matrix, without normalization\n",
      "[[342  50 275]\n",
      " [151 899 243]\n",
      " [587 166 737]]\n"
     ]
    },
    {
     "data": {
      "image/png": "[encoded data removed]",
      "text/plain": [
       "<Figure size 432x288 with 2 Axes>"
      ]
     },
     "metadata": {
      "needs_background": "light"
     },
     "output_type": "display_data"
    }
   ],
   "source": [
    "def plot_confusion_matrix(cm, classes, normalize=False, title='Confusion matrix', cmap=plt.cm.Blues):\n",
    "    if normalize:\n",
    "        cm = cm.astype('float') / cm.sum(axis=1)[:, np.newaxis]\n",
    "        print(\"Normalized confusion matrix\")\n",
    "    else:\n",
    "        print('Confusion matrix, without normalization')\n",
    "\n",
    "    print(cm)\n",
    "    plt.imshow(cm, interpolation='nearest', cmap=cmap)\n",
    "    plt.title(title)\n",
    "    plt.colorbar()\n",
    "    tick_marks = np.arange(len(classes))\n",
    "    plt.xticks(tick_marks, classes, rotation=45)\n",
    "    plt.yticks(tick_marks, classes)\n",
    "\n",
    "    fmt = '.2f' if normalize else 'd'\n",
    "    thresh = cm.max() / 2.\n",
    "    for i, j in itertools.product(range(cm.shape[0]), range(cm.shape[1])):\n",
    "        plt.text(j, i, format(cm[i, j], fmt), horizontalalignment=\"center\", color=\"white\" if cm[i, j] > thresh else \"black\")\n",
    "\n",
    "    plt.tight_layout()\n",
    "    plt.ylabel('True label')\n",
    "    plt.xlabel('Predicted label')\n",
    "    \n",
    "plot_confusion_matrix(matrix,[\"F\",\"I\",\"M\"])"
   ]
  },
  {
   "cell_type": "code",
   "execution_count": 19,
   "id": "bd92ecde",
   "metadata": {},
   "outputs": [
    {
     "data": {
      "text/plain": [
       "<AxesSubplot:>"
      ]
     },
     "execution_count": 19,
     "metadata": {},
     "output_type": "execute_result"
    },
    {
     "data": {
      "image/png": "[encoded data removed]",
      "text/plain": [
       "<Figure size 432x288 with 2 Axes>"
      ]
     },
     "metadata": {
      "needs_background": "light"
     },
     "output_type": "display_data"
    }
   ],
   "source": [
    "clf_report = classification_report(y_train, forecasts, output_dict=True)\n",
    "sns.heatmap(pd.DataFrame(clf_report).iloc[:-1,:-3].T, annot=True,yticklabels=[\"F\",\"I\",\"M\"])"
   ]
  }
 ],
 "metadata": {
  "kernelspec": {
   "display_name": "Python 3 (ipykernel)",
   "language": "python",
   "name": "python3"
  },
  "language_info": {
   "codemirror_mode": {
    "name": "ipython",
    "version": 3
   },
   "file_extension": ".py",
   "mimetype": "text/x-python",
   "name": "python",
   "nbconvert_exporter": "python",
   "pygments_lexer": "ipython3",
   "version": "3.8.11"
  }
 },
 "nbformat": 4,
 "nbformat_minor": 5
}
